{
  "nbformat": 4,
  "nbformat_minor": 0,
  "metadata": {
    "colab": {
      "provenance": [],
      "authorship_tag": "ABX9TyN8w1fMyeoh0U4IKsr0DeUo",
      "include_colab_link": true
    },
    "kernelspec": {
      "name": "python3",
      "display_name": "Python 3"
    },
    "language_info": {
      "name": "python"
    }
  },
  "cells": [
    {
      "cell_type": "markdown",
      "metadata": {
        "id": "view-in-github",
        "colab_type": "text"
      },
      "source": [
        "<a href=\"https://colab.research.google.com/github/Melany1523/IAWorks/blob/main/Numpy_Excercise_1.ipynb\" target=\"_parent\"><img src=\"https://colab.research.google.com/assets/colab-badge.svg\" alt=\"Open In Colab\"/></a>"
      ]
    },
    {
      "cell_type": "code",
      "execution_count": 1,
      "metadata": {
        "colab": {
          "base_uri": "https://localhost:8080/"
        },
        "id": "qnZBF48JHKUO",
        "outputId": "5853a8b3-fb7d-411b-c28f-cb648dd6edf1"
      },
      "outputs": [
        {
          "output_type": "stream",
          "name": "stdout",
          "text": [
            "[1 2 4 5]\n",
            "(4,)\n",
            "-------------------------------------\n",
            "(2, 4)\n",
            "[[1 2 3 4]\n",
            " [1 2 3 4]]\n",
            "<class 'numpy.ndarray'>\n",
            "-------------------------------------\n",
            "[[0. 0. 0. 0.]\n",
            " [0. 0. 0. 0.]\n",
            " [0. 0. 0. 0.]\n",
            " [0. 0. 0. 0.]]\n",
            "-------------------------------------\n",
            "[[5 5 5 5]\n",
            " [5 5 5 5]\n",
            " [5 5 5 5]\n",
            " [5 5 5 5]]\n",
            "-------------------------------------\n",
            "[[1. 0. 0. 0.]\n",
            " [0. 1. 0. 0.]\n",
            " [0. 0. 1. 0.]\n",
            " [0. 0. 0. 1.]]\n",
            "-------------------------------------\n",
            "[[1. 1. 1. 1.]\n",
            " [1. 1. 1. 1.]\n",
            " [1. 1. 1. 1.]\n",
            " [1. 1. 1. 1.]]\n",
            "(4, 4)\n",
            "-------------------------------------\n",
            "[[0.36386617 4.1066417  4.83103559]\n",
            " [2.33676968 3.59224053 9.82754987]\n",
            " [6.08354871 4.02120863 9.19429069]]\n"
          ]
        }
      ],
      "source": [
        "import numpy as np\n",
        "\n",
        "aux = np.array([1,2,4,5])\n",
        "print(aux)\n",
        "print(aux.shape)\n",
        "print (\"-------------------------------------\")\n",
        "aux = np.array([[1,2,3,4],[1,2,3,4]])\n",
        "print(aux.shape)\n",
        "print(aux)\n",
        "print(type(aux))\n",
        "print (\"-------------------------------------\")\n",
        "tmp = np.zeros([4,4])\n",
        "print (tmp)\n",
        "print (\"-------------------------------------\")\n",
        "tmp = np.full([4,4],5)\n",
        "print (tmp)\n",
        "print (\"-------------------------------------\")\n",
        "tmp = np.eye(4,4)\n",
        "print (tmp)\n",
        "print (\"-------------------------------------\")\n",
        "tmp = np.ones([4,4])\n",
        "print (tmp)\n",
        "print (tmp.shape)\n",
        "print (\"-------------------------------------\")\n",
        "tmp = 10*np.random.random([3,3])\n",
        "print (tmp)"
      ]
    },
    {
      "cell_type": "code",
      "source": [
        "tmp = 10*np.random.random([3,3])\n",
        "print (tmp)"
      ],
      "metadata": {
        "colab": {
          "base_uri": "https://localhost:8080/"
        },
        "id": "IVee84OESZEn",
        "outputId": "917695f7-ddcd-44e2-b0b9-f36e577559fc"
      },
      "execution_count": 2,
      "outputs": [
        {
          "output_type": "stream",
          "name": "stdout",
          "text": [
            "[[8.11591939 3.17801725 5.34499183]\n",
            " [8.9150112  4.33700795 4.82241559]\n",
            " [1.83067729 4.67987557 8.2942277 ]]\n"
          ]
        }
      ]
    },
    {
      "cell_type": "code",
      "source": [
        "print (tmp[:2,:2])"
      ],
      "metadata": {
        "colab": {
          "base_uri": "https://localhost:8080/"
        },
        "id": "TYq2UsNQSdJf",
        "outputId": "c5bfe23f-ab41-41da-dc82-dba40cbac38f"
      },
      "execution_count": 3,
      "outputs": [
        {
          "output_type": "stream",
          "name": "stdout",
          "text": [
            "[[8.11591939 3.17801725]\n",
            " [8.9150112  4.33700795]]\n"
          ]
        }
      ]
    },
    {
      "cell_type": "code",
      "source": [
        "print (tmp[:2,1:3])"
      ],
      "metadata": {
        "colab": {
          "base_uri": "https://localhost:8080/"
        },
        "id": "ENqWtf7ZTGl3",
        "outputId": "d076b770-5b9b-4788-a01a-0a3312e01db5"
      },
      "execution_count": 4,
      "outputs": [
        {
          "output_type": "stream",
          "name": "stdout",
          "text": [
            "[[3.17801725 5.34499183]\n",
            " [4.33700795 4.82241559]]\n"
          ]
        }
      ]
    },
    {
      "cell_type": "code",
      "source": [
        "print (tmp [2,2])"
      ],
      "metadata": {
        "colab": {
          "base_uri": "https://localhost:8080/"
        },
        "id": "NAkHT-RuT9k1",
        "outputId": "7cac0548-65a8-4589-d769-1a1f1f69a093"
      },
      "execution_count": 5,
      "outputs": [
        {
          "output_type": "stream",
          "name": "stdout",
          "text": [
            "8.294227697378314\n"
          ]
        }
      ]
    },
    {
      "cell_type": "markdown",
      "source": [
        "Filtrar valores con mask"
      ],
      "metadata": {
        "id": "-JooA3HUUtxh"
      }
    },
    {
      "cell_type": "code",
      "source": [
        "mask = tmp>5\n",
        "print (tmp[mask])"
      ],
      "metadata": {
        "colab": {
          "base_uri": "https://localhost:8080/"
        },
        "id": "4ZMo5RfWUSqt",
        "outputId": "0a147c84-5107-471c-f513-b8e0fbcaff4e"
      },
      "execution_count": 6,
      "outputs": [
        {
          "output_type": "stream",
          "name": "stdout",
          "text": [
            "[8.11591939 5.34499183 8.9150112  8.2942277 ]\n"
          ]
        }
      ]
    },
    {
      "cell_type": "code",
      "source": [
        "mask = (tmp>=2) & (tmp<=4)\n",
        "print (tmp[mask])"
      ],
      "metadata": {
        "colab": {
          "base_uri": "https://localhost:8080/"
        },
        "id": "LGVkU26eUyYy",
        "outputId": "a3ee7349-2e76-470f-bdeb-3f92737bae94"
      },
      "execution_count": 7,
      "outputs": [
        {
          "output_type": "stream",
          "name": "stdout",
          "text": [
            "[3.17801725]\n"
          ]
        }
      ]
    },
    {
      "cell_type": "code",
      "source": [
        "tmp = np.random.randint(0,10,[4,4])\n",
        "print (tmp)"
      ],
      "metadata": {
        "colab": {
          "base_uri": "https://localhost:8080/"
        },
        "id": "qJBDyhscWgP1",
        "outputId": "b26adc06-2786-471f-8618-c893df3503d5"
      },
      "execution_count": 8,
      "outputs": [
        {
          "output_type": "stream",
          "name": "stdout",
          "text": [
            "[[3 5 0 0]\n",
            " [8 6 4 4]\n",
            " [5 7 1 4]\n",
            " [8 2 3 7]]\n"
          ]
        }
      ]
    },
    {
      "cell_type": "markdown",
      "source": [
        "extraer los numeros pares"
      ],
      "metadata": {
        "id": "Lkqkwdc2Xmr2"
      }
    },
    {
      "cell_type": "code",
      "source": [
        "nrosEnteros = np.random.randint(0, 10, size=(4, 4))\n",
        "print(nrosEnteros)\n",
        "\n",
        "\n",
        "print('---------------------------')\n",
        "nrosEnteros = nrosEnteros[nrosEnteros % 2 == 0]\n",
        "print(nrosEnteros)\n"
      ],
      "metadata": {
        "id": "Zz0_Y9GPWwy-",
        "colab": {
          "base_uri": "https://localhost:8080/"
        },
        "outputId": "874cbb54-f21f-465b-f7e6-6c36566ff7c2"
      },
      "execution_count": 9,
      "outputs": [
        {
          "output_type": "stream",
          "name": "stdout",
          "text": [
            "[[1 7 6 3]\n",
            " [3 3 8 2]\n",
            " [0 1 1 5]\n",
            " [8 1 8 1]]\n",
            "---------------------------\n",
            "[6 8 2 0 8 8]\n"
          ]
        }
      ]
    }
  ]
}