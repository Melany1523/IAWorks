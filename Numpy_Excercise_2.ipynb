{
  "nbformat": 4,
  "nbformat_minor": 0,
  "metadata": {
    "colab": {
      "provenance": [],
      "authorship_tag": "ABX9TyO6UsF4pmJKWlVeGz4GtgWe",
      "include_colab_link": true
    },
    "kernelspec": {
      "name": "python3",
      "display_name": "Python 3"
    },
    "language_info": {
      "name": "python"
    }
  },
  "cells": [
    {
      "cell_type": "markdown",
      "metadata": {
        "id": "view-in-github",
        "colab_type": "text"
      },
      "source": [
        "<a href=\"https://colab.research.google.com/github/Melany1523/IAWorks/blob/main/Numpy_Excercise_2.ipynb\" target=\"_parent\"><img src=\"https://colab.research.google.com/assets/colab-badge.svg\" alt=\"Open In Colab\"/></a>"
      ]
    },
    {
      "cell_type": "code",
      "execution_count": 1,
      "metadata": {
        "colab": {
          "base_uri": "https://localhost:8080/"
        },
        "id": "AXDnVLNq560G",
        "outputId": "bf798d6b-f9b4-4a41-cfb1-c3879bced080"
      },
      "outputs": [
        {
          "output_type": "stream",
          "name": "stdout",
          "text": [
            "Matriz 1\n",
            "[[ 1  4  2  8]\n",
            " [ 4 10  7  2]\n",
            " [ 1  3 10  2]]\n",
            "(3, 4)\n",
            "Matriz 2\n",
            "[[ 7  1  3  5]\n",
            " [10  7  1 10]\n",
            " [ 2  9  2  5]]\n",
            "(3, 4)\n",
            "Suma de matrices\n",
            "[[ 8  5  5 13]\n",
            " [14 17  8 12]\n",
            " [ 3 12 12  7]]\n",
            "Resta de matrices\n",
            "[[-6  3 -1  3]\n",
            " [-6  3  6 -8]\n",
            " [-1 -6  8 -3]]\n",
            "Multiplicacion de matrices\n",
            "[[ 7  4  6 40]\n",
            " [40 70  7 20]\n",
            " [ 2 27 20 10]]\n"
          ]
        }
      ],
      "source": [
        "from numpy.random import MT19937\n",
        "import numpy as np\n",
        "print (\"Matriz 1\")\n",
        "m1 = np.random.randint(1,11,[3,4])\n",
        "print (m1)\n",
        "print (m1.shape)\n",
        "print (\"Matriz 2\")\n",
        "m2 = np.random.randint(1,11,[3,4])\n",
        "print (m2)\n",
        "print (m2.shape)\n",
        "print (\"Suma de matrices\")\n",
        "print (m1 + m2)\n",
        "print (\"Resta de matrices\")\n",
        "print (m1 - m2)\n",
        "print (\"Multiplicacion de matrices\")\n",
        "print (m1 * m2)"
      ]
    },
    {
      "cell_type": "code",
      "source": [
        "print (\"Suma de matrices\")\n",
        "print (np.add(m1,m2))\n",
        "print (\"Resta de matrices\")\n",
        "print (np.subtract(m1,m2))\n",
        "print (\"Multiplicacion de matrices\")\n",
        "print (np.multiply(m1,m2))\n",
        "print (\"Division de matrices\")\n",
        "print (np.divide(m1,m2))"
      ],
      "metadata": {
        "colab": {
          "base_uri": "https://localhost:8080/"
        },
        "id": "Hyg8Ftqk8CcX",
        "outputId": "d68c420f-ab87-434c-dc1d-fd2881d815af"
      },
      "execution_count": 2,
      "outputs": [
        {
          "output_type": "stream",
          "name": "stdout",
          "text": [
            "Suma de matrices\n",
            "[[ 8  5  5 13]\n",
            " [14 17  8 12]\n",
            " [ 3 12 12  7]]\n",
            "Resta de matrices\n",
            "[[-6  3 -1  3]\n",
            " [-6  3  6 -8]\n",
            " [-1 -6  8 -3]]\n",
            "Multiplicacion de matrices\n",
            "[[ 7  4  6 40]\n",
            " [40 70  7 20]\n",
            " [ 2 27 20 10]]\n",
            "Division de matrices\n",
            "[[0.14285714 4.         0.66666667 1.6       ]\n",
            " [0.4        1.42857143 7.         0.2       ]\n",
            " [0.5        0.33333333 5.         0.4       ]]\n"
          ]
        }
      ]
    },
    {
      "cell_type": "code",
      "source": [
        "print (\"Matriz 1\")\n",
        "m3 = np.random.randint(1,11,[3,4])\n",
        "print (m3)\n",
        "print (m3.shape)\n",
        "print (\"Matriz 2\")\n",
        "m4 = np.random.randint(1,11,[4,3])\n",
        "print (m4)\n",
        "print (m4.shape)\n",
        "\n",
        "print (np.dot(m3,m4))"
      ],
      "metadata": {
        "colab": {
          "base_uri": "https://localhost:8080/"
        },
        "id": "6H9AREFK9EYn",
        "outputId": "2754c996-2948-498c-f7b4-934df7734ad9"
      },
      "execution_count": 3,
      "outputs": [
        {
          "output_type": "stream",
          "name": "stdout",
          "text": [
            "Matriz 1\n",
            "[[10  6 10  9]\n",
            " [ 4  2  3  7]\n",
            " [ 3  6 10  9]]\n",
            "(3, 4)\n",
            "Matriz 2\n",
            "[[ 9  9  9]\n",
            " [ 6  9  1]\n",
            " [10  4  4]\n",
            " [ 2  8  1]]\n",
            "(4, 3)\n",
            "[[244 256 145]\n",
            " [ 92 122  57]\n",
            " [181 193  82]]\n"
          ]
        }
      ]
    },
    {
      "cell_type": "code",
      "source": [
        "print (\"Matriz 1\")\n",
        "m5 = np.random.randint(1,11,[2,2])\n",
        "print (m5.shape)\n",
        "print (type (m5))\n",
        "print (m5)\n",
        "print (m5.T)"
      ],
      "metadata": {
        "colab": {
          "base_uri": "https://localhost:8080/"
        },
        "id": "pvrMRwJE_ELL",
        "outputId": "47306dda-160f-4ce6-ce6e-09cf998fcc43"
      },
      "execution_count": 4,
      "outputs": [
        {
          "output_type": "stream",
          "name": "stdout",
          "text": [
            "Matriz 1\n",
            "(2, 2)\n",
            "<class 'numpy.ndarray'>\n",
            "[[6 7]\n",
            " [6 4]]\n",
            "[[6 6]\n",
            " [7 4]]\n"
          ]
        }
      ]
    },
    {
      "cell_type": "code",
      "source": [
        "print (\"Matriz 1\")\n",
        "m6 = np.random.randint(1,11,[4,3])\n",
        "m7 = np.array([1,0,2])\n",
        "print (m6.shape)\n",
        "print (m7.shape)\n",
        "m8 = np.empty_like(m6)\n",
        "print (m6)\n",
        "print (\"------------------------\")\n",
        "print (m7)\n",
        "print (m8.shape)\n",
        "print (\"------------------------\")\n",
        "print (m8)"
      ],
      "metadata": {
        "colab": {
          "base_uri": "https://localhost:8080/"
        },
        "id": "FcQop7dz_6rm",
        "outputId": "1734b195-7f5a-4182-8b0c-e13a77217ee5"
      },
      "execution_count": 5,
      "outputs": [
        {
          "output_type": "stream",
          "name": "stdout",
          "text": [
            "Matriz 1\n",
            "(4, 3)\n",
            "(3,)\n",
            "[[10  9  5]\n",
            " [10  4  3]\n",
            " [ 4  4  8]\n",
            " [ 4  1  9]]\n",
            "------------------------\n",
            "[1 0 2]\n",
            "(4, 3)\n",
            "------------------------\n",
            "[[4594314991293244562 4616189618054758400 4604180019048437077]\n",
            " [4609884578576439706 4600877379321698714 4609112532926033335]\n",
            " [4619567317775286272 4596373779694328218 4602678819172646912]\n",
            " [4599676419421066581 4617315517961601024 4600877379321698714]]\n"
          ]
        }
      ]
    },
    {
      "cell_type": "code",
      "source": [
        "for i in range(4):\n",
        "  m8[i,:]= m6[i,:]+m7\n",
        "print (m6)\n",
        "print (m7)\n",
        "print (m8)"
      ],
      "metadata": {
        "colab": {
          "base_uri": "https://localhost:8080/"
        },
        "id": "8FZZD99yBzlO",
        "outputId": "6f2ac4c5-fcb5-4d67-f603-c352ef322d35"
      },
      "execution_count": 6,
      "outputs": [
        {
          "output_type": "stream",
          "name": "stdout",
          "text": [
            "[[10  9  5]\n",
            " [10  4  3]\n",
            " [ 4  4  8]\n",
            " [ 4  1  9]]\n",
            "[1 0 2]\n",
            "[[11  9  7]\n",
            " [11  4  5]\n",
            " [ 5  4 10]\n",
            " [ 5  1 11]]\n"
          ]
        }
      ]
    },
    {
      "cell_type": "code",
      "source": [
        "a = np.array([1,2,3])\n",
        "print (a)\n",
        "b = np.tile(a,(6,1))\n",
        "print (b)\n",
        "print (b.shape)"
      ],
      "metadata": {
        "colab": {
          "base_uri": "https://localhost:8080/"
        },
        "id": "ldF6daJNDRVO",
        "outputId": "17336fd7-820f-417b-8554-016c3b87d7e1"
      },
      "execution_count": 7,
      "outputs": [
        {
          "output_type": "stream",
          "name": "stdout",
          "text": [
            "[1 2 3]\n",
            "[[1 2 3]\n",
            " [1 2 3]\n",
            " [1 2 3]\n",
            " [1 2 3]\n",
            " [1 2 3]\n",
            " [1 2 3]]\n",
            "(6, 3)\n"
          ]
        }
      ]
    },
    {
      "cell_type": "code",
      "source": [
        "m1 = np.random.randint(20,30,[6,6])\n",
        "print (m1)"
      ],
      "metadata": {
        "colab": {
          "base_uri": "https://localhost:8080/"
        },
        "id": "O0iFphrZFR8l",
        "outputId": "20c32d36-0071-4b4c-df84-c20556170e8a"
      },
      "execution_count": 8,
      "outputs": [
        {
          "output_type": "stream",
          "name": "stdout",
          "text": [
            "[[24 20 28 23 22 27]\n",
            " [22 29 26 24 26 28]\n",
            " [23 23 28 28 24 20]\n",
            " [26 24 29 21 29 24]\n",
            " [21 27 28 25 21 23]\n",
            " [20 26 20 23 27 28]]\n"
          ]
        }
      ]
    },
    {
      "cell_type": "code",
      "source": [
        "print('Matriz A')\n",
        "A = np.array([1,2,3])\n",
        "\n",
        "print(A)\n",
        "\n",
        "print(' ')\n",
        "print('---------------------------')\n",
        "print(' ')\n",
        "\n",
        "print('Matriz B')\n",
        "B = np.array([1,2,3])\n",
        "matriz = np.tile(B, (6, 1))\n",
        "print(matriz)\n",
        "\n",
        "print(' ')\n",
        "print('---------------------------')\n",
        "print(' ')\n",
        "\n",
        "print('Matriz C')\n",
        "C = np.random.randint(0, 11, size=(6, 6))\n",
        "print(C)\n",
        "promedio = np.mean(C)\n",
        "print(' ')\n",
        "print('Promedio')\n",
        "print(promedio)\n",
        "\n",
        "print(' ')\n",
        "print('---------------------------')\n",
        "print(' ')\n",
        "\n",
        "promedio1 = np.mean(C, axis=1)\n",
        "print(' ')\n",
        "print('Promedio por filas')\n",
        "print(promedio1)\n",
        "\n",
        "print(' ')\n",
        "print('---------------------------')\n",
        "print(' ')\n",
        "\n",
        "promedio2 = np.mean(C, axis=0)\n",
        "print(' ')\n",
        "print('Promedio por columnas')\n",
        "print(promedio2)"
      ],
      "metadata": {
        "colab": {
          "base_uri": "https://localhost:8080/"
        },
        "id": "WvLEejsXTNLY",
        "outputId": "94dddde4-3724-4849-80d0-09e96aa2ba67"
      },
      "execution_count": 9,
      "outputs": [
        {
          "output_type": "stream",
          "name": "stdout",
          "text": [
            "Matriz A\n",
            "[1 2 3]\n",
            " \n",
            "---------------------------\n",
            " \n",
            "Matriz B\n",
            "[[1 2 3]\n",
            " [1 2 3]\n",
            " [1 2 3]\n",
            " [1 2 3]\n",
            " [1 2 3]\n",
            " [1 2 3]]\n",
            " \n",
            "---------------------------\n",
            " \n",
            "Matriz C\n",
            "[[ 6  7  2  7  2  5]\n",
            " [ 9  2  5  3 10  3]\n",
            " [ 1  0  5  7  0  7]\n",
            " [ 2  1  1  4  5  4]\n",
            " [ 4  4  2  4  6  2]\n",
            " [10  3  1  5  0  5]]\n",
            " \n",
            "Promedio\n",
            "4.0\n",
            " \n",
            "---------------------------\n",
            " \n",
            " \n",
            "Promedio por filas\n",
            "[4.83333333 5.33333333 3.33333333 2.83333333 3.66666667 4.        ]\n",
            " \n",
            "---------------------------\n",
            " \n",
            " \n",
            "Promedio por columnas\n",
            "[5.33333333 2.83333333 2.66666667 5.         3.83333333 4.33333333]\n"
          ]
        }
      ]
    }
  ]
}